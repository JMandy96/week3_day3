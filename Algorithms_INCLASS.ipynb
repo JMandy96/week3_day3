{
 "cells": [
  {
   "cell_type": "markdown",
   "metadata": {},
   "source": [
    "# Algorithms & Binary Search"
   ]
  },
  {
   "cell_type": "markdown",
   "metadata": {},
   "source": [
    "## Tasks Today:\n",
    " \n",
    "1) <b>In-Place Algorithms</b> <br>\n",
    " &nbsp;&nbsp;&nbsp;&nbsp; a) Syntax <br>\n",
    " &nbsp;&nbsp;&nbsp;&nbsp; a) Out of Place Algorithm <br>\n",
    " &nbsp;&nbsp;&nbsp;&nbsp; b) In-Class Exercise #1 <br>\n",
    "2) <b>Two Pointers</b> <br>\n",
    "3) <b>Linked Lists</b> <br>\n",
    "4) <b>Merge Sort</b> <br>\n",
    " &nbsp;&nbsp;&nbsp;&nbsp; a) Video on Algorithms <br>\n",
    " &nbsp;&nbsp;&nbsp;&nbsp; b) How it Works <br>\n",
    "5) <b>Exercises</b> <br>\n",
    " &nbsp;&nbsp;&nbsp;&nbsp; a) Exercise #1 - Reverse a List in Place Using an In-Place Algorithm <br>\n",
    " &nbsp;&nbsp;&nbsp;&nbsp; b) Exercise #2 - Find Distinct Words <br>\n",
    " &nbsp;&nbsp;&nbsp;&nbsp; c) Exercise #3 - Write a program to implement a Linear Search Algorithm. <br>"
   ]
  },
  {
   "cell_type": "markdown",
   "metadata": {},
   "source": [
    "## In-Place Algorithms"
   ]
  },
  {
   "cell_type": "markdown",
   "metadata": {},
   "source": [
    "#### Syntax"
   ]
  },
  {
   "cell_type": "code",
   "execution_count": 21,
   "metadata": {},
   "outputs": [
    {
     "name": "stdout",
     "output_type": "stream",
     "text": [
      "1845803448192\n",
      "[3, 2, 1]\n",
      "1845803448192\n"
     ]
    }
   ],
   "source": [
    "def swap(alist, x,y,z):\n",
    "    alist[x], alist[y], alist[z] = alist[z], alist[y], alist[x]\n",
    "\n",
    "this_list = [1,2,3]\n",
    "print(id(this_list))\n",
    "swap(this_list, 0,1,2)\n",
    "print(this_list)\n",
    "print(id(this_list))"
   ]
  },
  {
   "cell_type": "markdown",
   "metadata": {},
   "source": [
    "#### Out of Place Algorithm"
   ]
  },
  {
   "cell_type": "code",
   "execution_count": 23,
   "metadata": {},
   "outputs": [
    {
     "name": "stdout",
     "output_type": "stream",
     "text": [
      "1845809130240\n",
      "[3, 2, 1]\n",
      "1845809096704\n"
     ]
    }
   ],
   "source": [
    "def out_swap(alist):\n",
    "    output = []\n",
    "    for number in alist[::-1]:\n",
    "        output.append(number)\n",
    "    return output\n",
    "this_list = [1,2,3]\n",
    "print(id(this_list))\n",
    "new_list = out_swap(this_list)\n",
    "print(new_list)\n",
    "print(id(new_list))\n"
   ]
  },
  {
   "cell_type": "markdown",
   "metadata": {},
   "source": [
    "#### In-Class Exercise #1 <br>\n",
    "<p>Write a function that takes in four arguments (list, index1, index2, index3), and swaps those three positions in the list passed in.</p>"
   ]
  },
  {
   "cell_type": "code",
   "execution_count": 32,
   "metadata": {},
   "outputs": [
    {
     "name": "stdout",
     "output_type": "stream",
     "text": [
      "[3, 4, 10, 8, 4, 2, 6]\n"
     ]
    }
   ],
   "source": [
    "l_1 = [10, 4, 3, 8, 4, 2, 6]\n",
    "# in place because it is modifying the original list\n",
    "def swap(alist, x,y,z):\n",
    "    alist[x], alist[y], alist[z] = alist[z], alist[y], alist[x]\n",
    "\n",
    "swap(l_1,  0,1,2)\n",
    "print(l_1)"
   ]
  },
  {
   "cell_type": "markdown",
   "metadata": {},
   "source": [
    "## Two Pointers"
   ]
  },
  {
   "cell_type": "markdown",
   "metadata": {},
   "source": [
    "#### Syntax"
   ]
  },
  {
   "cell_type": "code",
   "execution_count": 34,
   "metadata": {},
   "outputs": [
    {
     "name": "stdout",
     "output_type": "stream",
     "text": [
      "[10, 9, 8, 7, 6, 5, 4, 3, 2, 1]\n"
     ]
    }
   ],
   "source": [
    "this_list = [1,2,3,4,5,6,7,8,9,10]\n",
    "\n",
    "def twopointerswap(alist):\n",
    "    left = 0\n",
    "    right = len(alist) -1\n",
    "    while left <= right:\n",
    "        alist[left], alist[right] = alist[right], alist[left]\n",
    "        left += 1\n",
    "        right -= 1\n",
    "\n",
    "twopointerswap(this_list)\n",
    "print(this_list)"
   ]
  },
  {
   "cell_type": "markdown",
   "metadata": {},
   "source": [
    "#### Video of Algorithms <br>\n",
    "<p>Watch the video about algorithms.</p>\n",
    "\n",
    "https://www.youtube.com/watch?v=Q9HjeFD62Uk\n",
    "\n",
    "https://www.youtube.com/watch?v=kPRA0W1kECg\n",
    "\n",
    "https://www.youtube.com/watch?v=ZZuD6iUe3Pc"
   ]
  },
  {
   "cell_type": "markdown",
   "metadata": {},
   "source": [
    "# Sorting Algorithms"
   ]
  },
  {
   "cell_type": "markdown",
   "metadata": {},
   "source": [
    "#### Bubble Sort\n",
    "\n",
    "Worst Case: O(n^2) Time - O(1) Space"
   ]
  },
  {
   "cell_type": "code",
   "execution_count": 45,
   "metadata": {},
   "outputs": [
    {
     "name": "stdout",
     "output_type": "stream",
     "text": [
      "1\n",
      "[8, 4, 6, 2, 5, 9, 2]\n",
      "[4, 8, 6, 2, 5, 9, 2]\n",
      "[4, 6, 8, 2, 5, 9, 2]\n",
      "[4, 6, 2, 8, 5, 9, 2]\n",
      "[4, 6, 2, 5, 8, 9, 2]\n",
      "[4, 6, 2, 5, 8, 9, 2]\n",
      "[4, 6, 2, 5, 8, 2, 9]\n",
      "2\n",
      "[4, 6, 2, 5, 8, 2, 9]\n",
      "[4, 6, 2, 5, 8, 2, 9]\n",
      "[4, 2, 6, 5, 8, 2, 9]\n",
      "[4, 2, 5, 6, 8, 2, 9]\n",
      "[4, 2, 5, 6, 8, 2, 9]\n",
      "[4, 2, 5, 6, 2, 8, 9]\n",
      "[4, 2, 5, 6, 2, 8, 9]\n",
      "3\n",
      "[4, 2, 5, 6, 2, 8, 9]\n",
      "[2, 4, 5, 6, 2, 8, 9]\n",
      "[2, 4, 5, 6, 2, 8, 9]\n",
      "[2, 4, 5, 6, 2, 8, 9]\n",
      "[2, 4, 5, 2, 6, 8, 9]\n",
      "[2, 4, 5, 2, 6, 8, 9]\n",
      "[2, 4, 5, 2, 6, 8, 9]\n",
      "4\n",
      "[2, 4, 5, 2, 6, 8, 9]\n",
      "[2, 4, 5, 2, 6, 8, 9]\n",
      "[2, 4, 5, 2, 6, 8, 9]\n",
      "[2, 4, 2, 5, 6, 8, 9]\n",
      "[2, 4, 2, 5, 6, 8, 9]\n",
      "[2, 4, 2, 5, 6, 8, 9]\n",
      "[2, 4, 2, 5, 6, 8, 9]\n",
      "5\n",
      "[2, 4, 2, 5, 6, 8, 9]\n",
      "[2, 4, 2, 5, 6, 8, 9]\n",
      "[2, 2, 4, 5, 6, 8, 9]\n",
      "[2, 2, 4, 5, 6, 8, 9]\n",
      "[2, 2, 4, 5, 6, 8, 9]\n",
      "[2, 2, 4, 5, 6, 8, 9]\n",
      "[2, 2, 4, 5, 6, 8, 9]\n",
      "6\n",
      "[2, 2, 4, 5, 6, 8, 9]\n",
      "[2, 2, 4, 5, 6, 8, 9]\n",
      "[2, 2, 4, 5, 6, 8, 9]\n",
      "[2, 2, 4, 5, 6, 8, 9]\n",
      "[2, 2, 4, 5, 6, 8, 9]\n",
      "[2, 2, 4, 5, 6, 8, 9]\n",
      "[2, 2, 4, 5, 6, 8, 9]\n",
      "[2, 2, 4, 5, 6, 8, 9]\n"
     ]
    }
   ],
   "source": [
    "this_list = [8,4,6,2,5,9,2]\n",
    "\n",
    "def swap(alist, x,y):\n",
    "    alist[x], alist[y] = alist[y], alist[x]\n",
    "\n",
    "def bubble(alist):\n",
    "    sorted = False\n",
    "\n",
    "    p = 0\n",
    "    while not sorted:\n",
    "        p+=1\n",
    "        print(p)\n",
    "        sorted = True\n",
    "        for index in range(len(alist)-1):\n",
    "            print(alist)\n",
    "            if alist[index] > alist[index + 1]:\n",
    "                swap(alist, index, index+1)\n",
    "                sorted = False\n",
    "        print(alist)\n",
    "                \n",
    "            \n",
    "\n",
    "    \n",
    "\n",
    "bubble(this_list)\n",
    "print(this_list)"
   ]
  },
  {
   "cell_type": "markdown",
   "metadata": {},
   "source": [
    "##### Insertion Sort\n",
    "\n",
    "Worst Case: O(n^2) time - O(1)space"
   ]
  },
  {
   "cell_type": "code",
   "execution_count": 57,
   "metadata": {},
   "outputs": [
    {
     "name": "stdout",
     "output_type": "stream",
     "text": [
      "[8]\n",
      "4\n",
      "[8, 4]\n",
      "[4, 8]\n",
      "6\n",
      "[4, 8, 6]\n",
      "[4, 6, 8]\n",
      "2\n",
      "[4, 6, 8, 2]\n",
      "[4, 6, 2, 8]\n",
      "[4, 2, 6, 8]\n",
      "[2, 4, 6, 8]\n",
      "5\n",
      "[2, 4, 6, 8, 5]\n",
      "[2, 4, 6, 5, 8]\n",
      "[2, 4, 5, 6, 8]\n",
      "9\n",
      "[2, 4, 5, 6, 8, 9]\n",
      "2\n",
      "[2, 4, 5, 6, 8, 9, 2]\n",
      "[2, 4, 5, 6, 8, 2, 9]\n",
      "[2, 4, 5, 6, 2, 8, 9]\n",
      "[2, 4, 5, 2, 6, 8, 9]\n",
      "[2, 4, 2, 5, 6, 8, 9]\n",
      "[2, 2, 4, 5, 6, 8, 9]\n"
     ]
    }
   ],
   "source": [
    "this_list = [8,4,6,2,5,9,2]\n",
    "\n",
    "def swap(alist, x,y):\n",
    "    alist[x], alist[y] = alist[y], alist[x]\n",
    "\n",
    "def insertion(alist):\n",
    "    for i in range(1, len(alist)):\n",
    "        p = i\n",
    "        print(alist[:i])\n",
    "        print(alist[i])\n",
    "        while i > 0 and alist[i] < alist[i-1]:\n",
    "            print(alist[:p+1])\n",
    "            swap(alist, i, i-1)\n",
    "            i -= 1\n",
    "\n",
    "\n",
    "insertion(this_list)\n",
    "print(this_list)"
   ]
  },
  {
   "cell_type": "markdown",
   "metadata": {},
   "source": [
    "## Merge Sort"
   ]
  },
  {
   "cell_type": "markdown",
   "metadata": {},
   "source": [
    "#### How it Works"
   ]
  },
  {
   "cell_type": "code",
   "execution_count": 87,
   "metadata": {},
   "outputs": [
    {
     "name": "stdout",
     "output_type": "stream",
     "text": [
      "splitting [8, 4, 6, 2, 5, 9, 2]\n",
      "Left Half: [8, 4, 6] Right half: [2, 5, 9, 2]\n",
      "splitting [8, 4, 6]\n",
      "Left Half: [8] Right half: [4, 6]\n",
      "splitting [4, 6]\n",
      "Left Half: [4] Right half: [6]\n",
      "mergin left: [4], merging right: [6]\n",
      "Merged [4, 6]\n",
      "mergin left: [8], merging right: [4, 6]\n",
      "Merged [4, 6, 8]\n",
      "splitting [2, 5, 9, 2]\n",
      "Left Half: [2, 5] Right half: [9, 2]\n",
      "splitting [2, 5]\n",
      "Left Half: [2] Right half: [5]\n",
      "mergin left: [2], merging right: [5]\n",
      "Merged [2, 5]\n",
      "splitting [9, 2]\n",
      "Left Half: [9] Right half: [2]\n",
      "mergin left: [9], merging right: [2]\n",
      "Merged [2, 9]\n",
      "mergin left: [2, 5], merging right: [2, 9]\n",
      "Merged [2, 2, 5, 9]\n",
      "mergin left: [4, 6, 8], merging right: [2, 2, 5, 9]\n",
      "Merged [2, 2, 4, 5, 6, 8, 9]\n",
      "[2, 2, 4, 5, 6, 8, 9]\n"
     ]
    }
   ],
   "source": [
    "alist = [8,4,6,2,5,9,2]\n",
    "\n",
    "def mergesort(alist):\n",
    "\n",
    "    if len(alist) > 1:\n",
    "        \n",
    "        middle = len(alist) // 2\n",
    "        left_half = alist[0:middle]\n",
    "        right_half = alist[middle: ]\n",
    "        print(f'splitting {alist}')\n",
    "        print(f'Left Half: {left_half} Right half: {right_half}')\n",
    "        mergesort(left_half)\n",
    "        mergesort(right_half)\n",
    "\n",
    "        print(f'mergin left: {left_half}, merging right: {right_half}')\n",
    "        #index\n",
    "        i = 0 #pointer for left half\n",
    "        j = 0 #pointer for the right half\n",
    "        k = 0 #pointer for the main list, being merged into.\n",
    "\n",
    "        #compare the left and right half until one of them is empty:\n",
    "        while i < len(left_half) and j < len(right_half):\n",
    "            if left_half[i] < right_half[j]:\n",
    "                alist[k] = left_half[i]\n",
    "                i += 1\n",
    "            else:\n",
    "                alist[k] = right_half[j]\n",
    "                j += 1\n",
    "\n",
    "            k += 1\n",
    "\n",
    "        #once a list has been emptied\n",
    "        #fill in main list with remain list:\n",
    "\n",
    "        while i < len(left_half):\n",
    "            alist[k] = left_half[i]\n",
    "            i+=1\n",
    "            k+=1\n",
    "\n",
    "        while j < len(right_half):\n",
    "            alist[k] = right_half[j]\n",
    "            j += 1\n",
    "            k += 1\n",
    "        \n",
    "        print(f'Merged {alist}')\n",
    "\n",
    "        return alist\n",
    "    \n",
    "print(mergesort(alist))\n",
    "    \n",
    "\n",
    "\n",
    "\n",
    "    "
   ]
  },
  {
   "cell_type": "markdown",
   "metadata": {},
   "source": [
    "# Binary Search\n",
    "\n",
    "The Binary Search algorithm works by finding the number in the middle of a given array and comparing it to the target. Given that the array is sorted\n",
    "\n",
    "* The worst case run time for this algorithm is `O(log(n))`"
   ]
  },
  {
   "cell_type": "code",
   "execution_count": 11,
   "metadata": {},
   "outputs": [
    {
     "data": {
      "text/plain": [
       "'WINNER WINNER CHICKEN DINNER found 1 at the 0 index'"
      ]
     },
     "execution_count": 11,
     "metadata": {},
     "output_type": "execute_result"
    }
   ],
   "source": [
    "def binarysearch(alist, target):\n",
    "    left = 0\n",
    "    right = len(alist) - 1\n",
    "    while left <= right:\n",
    "        middle = (left+right)//2\n",
    "        potential_match = alist[middle]\n",
    "        if target == potential_match:\n",
    "            return f'WINNER WINNER CHICKEN DINNER found {target} at the {middle} index'\n",
    "        elif target < potential_match:\n",
    "            right = middle - 1\n",
    "\n",
    "        elif target > potential_match:\n",
    "            left = middle + 1\n",
    "        \n",
    "    return f'Target not in the list'\n",
    "\n",
    "binarysearch([1,5,7,23,29,3,8,58], 1)\n",
    "\n",
    "        \n"
   ]
  },
  {
   "cell_type": "markdown",
   "metadata": {},
   "source": [
    "# Exercises"
   ]
  },
  {
   "cell_type": "markdown",
   "metadata": {},
   "source": [
    "### Exercise #1 <br>\n",
    "<p>Reverse the list below in-place using an in-place algorithm.<br>For extra credit: Reverse the strings at the same time.</p>"
   ]
  },
  {
   "cell_type": "code",
   "execution_count": 3,
   "metadata": {},
   "outputs": [
    {
     "name": "stdout",
     "output_type": "stream",
     "text": [
      "['.', 'ecnetnes', 'a', 'si', 'siht']\n"
     ]
    }
   ],
   "source": [
    "words = ['this' , 'is', 'a', 'sentence', '.']\n",
    "\n",
    "def twopointerswap(alist):\n",
    "    left = 0\n",
    "    right = len(alist) -1\n",
    "    while left <= right:\n",
    "        alist[left] = alist[left][::-1]\n",
    "        alist[right] = alist[right][::-1]\n",
    "        alist[left], alist[right] = alist[right], alist[left]\n",
    "        left += 1\n",
    "        right -= 1\n",
    "        \n",
    "    \n",
    "\n",
    "twopointerswap(words)\n",
    "print(words)\n",
    "        "
   ]
  },
  {
   "cell_type": "markdown",
   "metadata": {},
   "source": [
    "### Exercise #2 <br>\n",
    "<p>Create a function that counts how many distinct words are in the string below, then outputs a dictionary with the words as the key and the value as the amount of times that word appears in the string.<br>Should output:<br>{'a': 5,<br>\n",
    " 'abstract': 1,<br>\n",
    " 'an': 3,<br>\n",
    " 'array': 2, ... etc...</p>"
   ]
  },
  {
   "cell_type": "code",
   "execution_count": 2,
   "metadata": {},
   "outputs": [
    {
     "name": "stdout",
     "output_type": "stream",
     "text": [
      "{'a': 5, 'abstract': 1, 'an': 3, 'array': 2, 'associative': 1, 'be': 1, 'buckets': 1, 'can': 2, 'compute': 1, 'computing,': 1, 'data': 2, 'desired': 1, 'found': 1, 'from': 1, 'function': 1, 'hash': 4, 'implements': 1, 'in': 1, 'index': 1, 'into': 1, 'is': 1, 'keys': 1, 'map': 2, 'of': 1, 'or': 1, 'slots': 1, 'structure': 2, 'table': 2, 'that': 1, 'the': 1, 'to': 2, 'type,': 1, 'uses': 1, 'value': 1, 'values.': 1, 'which': 2}\n"
     ]
    }
   ],
   "source": [
    "a_text = 'In computing, a hash table hash map is a data structure which implements an associative array abstract data type, a structure that can map keys to values. A hash table uses a hash function to compute an index into an array of buckets or slots from which the desired value can be found'\n",
    "def word_count(text):\n",
    "    word_dict = {}\n",
    "    \n",
    "    for word in text.lower().split():\n",
    "        if word not in word_dict:\n",
    "            word_dict[word] = 1\n",
    "\n",
    "        elif word in word_dict:\n",
    "            word_dict[word] += 1\n",
    "\n",
    "    return dict(sorted(word_dict.items(), key= lambda kv: kv[0]))\n",
    "    \n",
    "\n",
    "\n",
    "\n",
    "print(word_count(a_text))\n"
   ]
  },
  {
   "cell_type": "markdown",
   "metadata": {},
   "source": [
    "## Exercise #3\n",
    "\n",
    "Write a program to implement a Linear Search Algorithm. Also in a comment, write the Time Complexity of the following algorithm.\n",
    "\n",
    "#### Hint: Linear Searching will require searching a list for a given number. "
   ]
  },
  {
   "cell_type": "code",
   "execution_count": 1,
   "metadata": {},
   "outputs": [
    {
     "name": "stdout",
     "output_type": "stream",
     "text": [
      "The 5 is in the list in the index [4]\n",
      "The 5 is in the list in the index [0, 7, 8, 17, 21]\n"
     ]
    }
   ],
   "source": [
    "def linearsearch(alist,num):\n",
    "    indices = []\n",
    "\n",
    "    for index, integer in enumerate(alist):\n",
    "        if integer == num:\n",
    "            indices.append(index)\n",
    "    if num not in alist:\n",
    "        return f'The {num} is not contained within the given list'\n",
    "    elif num in alist:\n",
    "        return f'The {num} is in the list in the index {indices}'\n",
    "\n",
    "numlist = [1,2,3,4,5,6,7,8,9,10]\n",
    "print(linearsearch(numlist, 5))\n",
    "### The time complexity of a linear search algorithm could be an issue when \n",
    "# trying to look for an object that is contained within something with very \n",
    "# large sample size. \n",
    "\n",
    "\n",
    "# however, I believe a linear search algorithm can be useful in the case of \n",
    "# having a list that is not in order, or has multiple instances of what you \n",
    "# are searching for.\n",
    "\n",
    "unordered = [5,87,2,6,4,2,1,5,5,7,7,4,2,1,4,6,8,5,4,2,4,5]\n",
    "print(linearsearch(unordered,5))\n"
   ]
  }
 ],
 "metadata": {
  "kernelspec": {
   "display_name": "Python 3.10.8 64-bit (microsoft store)",
   "language": "python",
   "name": "python3"
  },
  "language_info": {
   "codemirror_mode": {
    "name": "ipython",
    "version": 3
   },
   "file_extension": ".py",
   "mimetype": "text/x-python",
   "name": "python",
   "nbconvert_exporter": "python",
   "pygments_lexer": "ipython3",
   "version": "3.11.4"
  },
  "vscode": {
   "interpreter": {
    "hash": "aa82987a71ca0339a52998cd22613b0c002bda8349fa32a0cb67ceec3936a2bf"
   }
  }
 },
 "nbformat": 4,
 "nbformat_minor": 2
}
